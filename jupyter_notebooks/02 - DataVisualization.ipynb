{
 "cells": [
  {
   "cell_type": "markdown",
   "metadata": {
    "id": "0aStgWSO0E0E"
   },
   "source": [
    "# Data Visualization Notebook"
   ]
  },
  {
   "cell_type": "markdown",
   "metadata": {
    "id": "1eLEkw5O0ECa"
   },
   "source": [
    "## Objectives\n",
    "\n",
    "*   Answer business requirement 1: \n",
    "    * The client is interested to have a study to visually differentiate a parasitized and uninfected cell.\n",
    "\n",
    "\n",
    "## Inputs\n",
    "\n",
    "* inputs/malaria_dataset/cell_images/train\n",
    "* inputs/malaria_dataset/cell_images/test\n",
    "* inputs/malaria_dataset/cell_images/validation\n",
    "\n",
    "## Outputs\n",
    "\n",
    "* Image shape embeddings pickle file.\n",
    "* Mean and variability of images per label plot.\n",
    "* Plot to distinguish the contrast between parasite-contained and uninfected cell images.\n",
    "* Generate code that answers business requirement 1 and can be used to build an image montage on the Streamlit dashboard.\n",
    "\n",
    "\n",
    "## Additional Comments | Insights | Conclusions\n",
    "\n",
    "\n"
   ]
  },
  {
   "cell_type": "markdown",
   "metadata": {
    "id": "9uWZXH9LwoQg"
   },
   "source": [
    "---"
   ]
  },
  {
   "cell_type": "markdown",
   "metadata": {
    "id": "t2oPUd1K_qCr"
   },
   "source": [
    "# Set Data Directory"
   ]
  },
  {
   "cell_type": "markdown",
   "metadata": {
    "id": "qRwFQLlmwrl9"
   },
   "source": [
    "---"
   ]
  },
  {
   "cell_type": "markdown",
   "metadata": {
    "id": "czVrQtLccTJb"
   },
   "source": [
    "## Import libraries"
   ]
  },
  {
   "cell_type": "code",
   "execution_count": 1,
   "metadata": {
    "id": "oqqga261_w4N"
   },
   "outputs": [],
   "source": [
    "import os\n",
    "import pandas as pd\n",
    "import numpy as np\n",
    "import matplotlib.pyplot as plt\n",
    "import seaborn as sns\n",
    "import joblib\n",
    "sns.set_style(\"white\")\n",
    "from matplotlib.image import imread"
   ]
  },
  {
   "cell_type": "markdown",
   "metadata": {
    "id": "czVrQtLccTJb"
   },
   "source": [
    "## Set working directory"
   ]
  },
  {
   "cell_type": "code",
   "execution_count": 2,
   "metadata": {
    "id": "8SooBUDWVIQK"
   },
   "outputs": [],
   "source": [
    "cwd= os.getcwd()"
   ]
  },
  {
   "cell_type": "code",
   "execution_count": 3,
   "metadata": {
    "id": "EQ7j8jHhmYDD"
   },
   "outputs": [
    {
     "name": "stdout",
     "output_type": "stream",
     "text": [
      "You set a new current directory\n"
     ]
    }
   ],
   "source": [
    "os.chdir('/workspaces/malaria_project')\n",
    "print(\"You set a new current directory\")"
   ]
  },
  {
   "cell_type": "code",
   "execution_count": 4,
   "metadata": {
    "id": "b107Zs3TmYDD"
   },
   "outputs": [
    {
     "data": {
      "text/plain": [
       "'/workspaces/malaria_project'"
      ]
     },
     "execution_count": 4,
     "metadata": {},
     "output_type": "execute_result"
    }
   ],
   "source": [
    "\n",
    "work_dir = os.getcwd()\n",
    "work_dir"
   ]
  },
  {
   "cell_type": "markdown",
   "metadata": {
    "id": "czVrQtLccTJb"
   },
   "source": [
    "## Set input directories"
   ]
  },
  {
   "cell_type": "markdown",
   "metadata": {
    "id": "sx2ZqnpDcY2H"
   },
   "source": [
    "Set train, validation and test paths."
   ]
  },
  {
   "cell_type": "code",
   "execution_count": 14,
   "metadata": {
    "id": "5eucaA9M6qz1"
   },
   "outputs": [],
   "source": [
    "my_data_dir = '/workspaces/malaria_project/jupyter_notebooks/inputs/malaria_dataset/cell_images'\n",
    "train_path = my_data_dir + '/train'\n",
    "val_path = my_data_dir + '/validation'\n",
    "test_path = my_data_dir + '/test'"
   ]
  },
  {
   "cell_type": "markdown",
   "metadata": {
    "id": "czVrQtLccTJb"
   },
   "source": [
    "## Set output directory"
   ]
  },
  {
   "cell_type": "code",
   "execution_count": 15,
   "metadata": {},
   "outputs": [
    {
     "name": "stdout",
     "output_type": "stream",
     "text": [
      "Old version is already available create a new version.\n"
     ]
    }
   ],
   "source": [
    "version = 'v1'\n",
    "file_path = f'outputs/{version}'\n",
    "\n",
    "if 'outputs' in os.listdir(work_dir) and version in os.listdir(work_dir + '/outputs'):\n",
    "    print('Old version is already available create a new version.')\n",
    "    pass\n",
    "else:\n",
    "    os.makedirs(name=file_path)\n"
   ]
  },
  {
   "cell_type": "markdown",
   "metadata": {},
   "source": [
    "### Set label names"
   ]
  },
  {
   "cell_type": "code",
   "execution_count": 16,
   "metadata": {},
   "outputs": [
    {
     "name": "stdout",
     "output_type": "stream",
     "text": [
      "Label for the images are ['Uninfected', 'Parasitized']\n"
     ]
    }
   ],
   "source": [
    "# Set the labels\n",
    "labels = os.listdir(train_path)\n",
    "print('Label for the images are', labels)\n"
   ]
  },
  {
   "cell_type": "markdown",
   "metadata": {
    "id": "oSTKDM0XvuVu"
   },
   "source": [
    "---"
   ]
  },
  {
   "cell_type": "markdown",
   "metadata": {
    "id": "qQ0p1nYJ_3sx"
   },
   "source": [
    "# Data visualisation of image data"
   ]
  },
  {
   "cell_type": "markdown",
   "metadata": {
    "id": "Zp4l-B11vCiP"
   },
   "source": [
    "---"
   ]
  },
  {
   "cell_type": "markdown",
   "metadata": {
    "id": "1BHzBBt-5fEh"
   },
   "source": [
    "## Image shape "
   ]
  },
  {
   "cell_type": "markdown",
   "metadata": {
    "id": "OptI7pnA6zPZ"
   },
   "source": [
    "Compute average images size on train set."
   ]
  },
  {
   "cell_type": "code",
   "execution_count": 17,
   "metadata": {
    "id": "00W_ROgJ71a-"
   },
   "outputs": [
    {
     "data": {
      "image/png": "[encoded data removed]",
      "text/plain": [
       "<Figure size 640x480 with 1 Axes>"
      ]
     },
     "metadata": {},
     "output_type": "display_data"
    },
    {
     "name": "stdout",
     "output_type": "stream",
     "text": [
      "Width average: 129 \n",
      "Height average: 129\n"
     ]
    }
   ],
   "source": [
    "dim1, dim2 = [], []\n",
    "for label in labels:\n",
    "    for image_filename in os.listdir(train_path + '/' + label):\n",
    "        img = imread(train_path + '/' + label + '/' + image_filename)\n",
    "        d1, d2, colors = img.shape\n",
    "        dim1.append(d1)  # image height\n",
    "        dim2.append(d2)  # image width\n",
    "\n",
    "sns.set_style(\"whitegrid\")\n",
    "fig, axes = plt.subplots()\n",
    "sns.scatterplot(x=dim2, y=dim1, alpha=0.2)\n",
    "axes.set_xlabel(\"Width (pixels)\")\n",
    "axes.set_ylabel(\"Height (pixels)\")\n",
    "dim1_mean = int(np.array(dim1).mean())\n",
    "dim2_mean = int(np.array(dim2).mean())\n",
    "axes.axvline(x=dim1_mean, color='r', linestyle='--')\n",
    "axes.axhline(y=dim2_mean, color='r', linestyle='--')\n",
    "plt.show()\n",
    "print(f\"Width average: {dim2_mean} \\nHeight average: {dim1_mean}\")\n"
   ]
  },
  {
   "cell_type": "markdown",
   "metadata": {
    "id": "xwcDKE7z577p"
   },
   "source": [
    "Images size for training the model is the average from all images in the train set."
   ]
  },
  {
   "cell_type": "code",
   "execution_count": 18,
   "metadata": {
    "id": "yaWVery3Afa8"
   },
   "outputs": [
    {
     "data": {
      "text/plain": [
       "(129, 129, 3)"
      ]
     },
     "execution_count": 18,
     "metadata": {},
     "output_type": "execute_result"
    }
   ],
   "source": [
    "image_shape = (dim1_mean, dim2_mean, 3)\n",
    "image_shape"
   ]
  },
  {
   "cell_type": "markdown",
   "metadata": {},
   "source": [
    "Save the image shape embeddings"
   ]
  },
  {
   "cell_type": "code",
   "execution_count": 19,
   "metadata": {},
   "outputs": [
    {
     "data": {
      "text/plain": [
       "['outputs/v1/image_shape.pkl']"
      ]
     },
     "execution_count": 19,
     "metadata": {},
     "output_type": "execute_result"
    }
   ],
   "source": [
    "joblib.dump(value=image_shape ,\n",
    "            filename=f\"{file_path}/image_shape.pkl\")"
   ]
  },
  {
   "cell_type": "markdown",
   "metadata": {
    "id": "Zp4l-B11vCiP"
   },
   "source": [
    "---"
   ]
  },
  {
   "cell_type": "markdown",
   "metadata": {},
   "source": [
    "## Average and variability of images  per label"
   ]
  },
  {
   "cell_type": "markdown",
   "metadata": {
    "id": "pPPUGkhDByma"
   },
   "source": [
    "### Function to load images in an array (tensor)"
   ]
  },
  {
   "cell_type": "code",
   "execution_count": null,
   "metadata": {
    "id": "8t0SvZdzdjBu"
   },
   "outputs": [],
   "source": [
    "from tensorflow.keras.preprocessing import image\n",
    "\n",
    "\n",
    "def load_image_as_array(my_data_dir, new_size=(50, 50), n_images_per_label=20):\n",
    "\n",
    "    X, y = np.array([], dtype='int'), np.array([], dtype='object')\n",
    "    labels = os.listdir(my_data_dir)\n",
    "\n",
    "    for label in labels:\n",
    "        counter = 0\n",
    "        for image_filename in os.listdir(my_data_dir + '/' + label):\n",
    "            # n_images_per_label: we set a limit, since it may take too much time\n",
    "            if counter < n_images_per_label:\n",
    "\n",
    "                img = image.load_img(\n",
    "                    my_data_dir + '/' + label + '/' + image_filename, target_size=new_size)\n",
    "                if image.img_to_array(img).max() > 1:\n",
    "                    img_resized = image.img_to_array(img) / 255\n",
    "                else:\n",
    "                    img_resized = image.img_to_array(img)\n",
    "\n",
    "                X = np.append(X, img_resized).reshape(-1,\n",
    "                                                      new_size[0], new_size[1], img_resized.shape[2])\n",
    "                y = np.append(y, label)\n",
    "                counter += 1\n",
    "\n",
    "    return X, y\n"
   ]
  },
  {
   "cell_type": "markdown",
   "metadata": {},
   "source": [
    "### Load image shapes and labels in an array"
   ]
  },
  {
   "cell_type": "code",
   "execution_count": null,
   "metadata": {
    "id": "uqR4qdrIds-I"
   },
   "outputs": [],
   "source": [
    "X, y = load_image_as_array(my_data_dir=train_path,\n",
    "                           new_size=image_shape,\n",
    "                           n_images_per_label=30)\n",
    "print(X.shape, y.shape)\n"
   ]
  },
  {
   "cell_type": "markdown",
   "metadata": {
    "id": "DicOpvVCCS3X"
   },
   "source": [
    "### Plot and save mean and variability of images per label"
   ]
  },
  {
   "cell_type": "code",
   "execution_count": null,
   "metadata": {
    "id": "vc17piWHevwk"
   },
   "outputs": [],
   "source": [
    "def plot_mean_variability_per_labels(X, y, figsize=(12, 5), save_image=False):\n",
    "    \"\"\"\n",
    "    The pseudo-code for the function is:\n",
    "    * Loop over all labels\n",
    "    * Subset an array for a given label\n",
    "    * Calculate the mean and standard deviation\n",
    "    * Create a figure displaying the mean and variability of images\n",
    "    * Save the image\n",
    "    \"\"\"\n",
    "\n",
    "    for label_to_display in np.unique(y):\n",
    "        sns.set_style(\"white\")\n",
    "\n",
    "        y = y.reshape(-1, 1, 1)\n",
    "        boolean_mask = np.any(y == label_to_display, axis=1).reshape(-1)\n",
    "        arr = X[boolean_mask]\n",
    "\n",
    "        avg_img = np.mean(arr, axis=0)\n",
    "        std_img = np.std(arr, axis=0)\n",
    "        print(f\"==== Label {label_to_display} ====\")\n",
    "        print(f\"Image Shape: {avg_img.shape}\")\n",
    "        fig, axes = plt.subplots(nrows=1, ncols=2, figsize=figsize)\n",
    "        axes[0].set_title(f\"Average image for label {label_to_display}\")\n",
    "        axes[0].imshow(avg_img, cmap='gray')\n",
    "        axes[1].set_title(f\"Variability image for label {label_to_display}\")\n",
    "        axes[1].imshow(std_img, cmap='gray')\n",
    "\n",
    "        if save_image:\n",
    "            plt.savefig(f\"{file_path}/avg_var_{label_to_display}.png\",\n",
    "                        bbox_inches='tight', dpi=150)\n",
    "        else:\n",
    "            plt.tight_layout()\n",
    "            plt.show()\n",
    "            print(\"\\n\")\n"
   ]
  },
  {
   "cell_type": "code",
   "execution_count": null,
   "metadata": {
    "id": "55CqXcfOe2Cp"
   },
   "outputs": [],
   "source": [
    "plot_mean_variability_per_labels(X=X, y=y, figsize=(12, 5), save_image=True)\n"
   ]
  },
  {
   "cell_type": "markdown",
   "metadata": {
    "id": "Zp4l-B11vCiP"
   },
   "source": [
    "---"
   ]
  },
  {
   "cell_type": "markdown",
   "metadata": {
    "id": "ZX8Q_XDMCYkv"
   },
   "source": [
    "## Difference between average parasite-contained and average uninfected cell images"
   ]
  },
  {
   "cell_type": "markdown",
   "metadata": {
    "id": "Zp4l-B11vCiP"
   },
   "source": [
    "---"
   ]
  },
  {
   "cell_type": "code",
   "execution_count": null,
   "metadata": {
    "id": "jkwqFeWif9Pi"
   },
   "outputs": [],
   "source": [
    "def subset_image_label(X, y, label_to_display):\n",
    "    y = y.reshape(-1, 1, 1)\n",
    "    boolean_mask = np.any(y == label_to_display, axis=1).reshape(-1)\n",
    "    df = X[boolean_mask]\n",
    "    return df\n",
    "\n",
    "\n",
    "def diff_bet_avg_image_labels_data_as_array(X, y, label_1, label_2, figsize=(20, 5), save_image=False):\n",
    "    \"\"\"\n",
    "    Checks if the labels exist in the set of unique labels\n",
    "    Calculates the mean and difference for label1 and label2\n",
    "    Plots a chart and saves it if save_image=True\n",
    "    \"\"\"\n",
    "    sns.set_style(\"white\")\n",
    "\n",
    "    if (label_1 not in np.unique(y)) or (label_2 not in np.unique(y)):\n",
    "        print(\n",
    "            f\"Either label {label} or label {label_2}, are not in {np.unique(y)} \")\n",
    "        return\n",
    "\n",
    "    # calculate mean from label1\n",
    "    images_label = subset_image_label(X, y, label_1)\n",
    "    label1_avg = np.mean(images_label, axis=0)\n",
    "\n",
    "    # calculate mean from label2\n",
    "    images_label = subset_image_label(X, y, label_2)\n",
    "    label2_avg = np.mean(images_label, axis=0)\n",
    "\n",
    "    # calculate difference and plot difference, avg label1 and avg label2\n",
    "    difference_mean = label1_avg - label2_avg\n",
    "    fig, axes = plt.subplots(nrows=1, ncols=3, figsize=figsize)\n",
    "    axes[0].imshow(label1_avg, cmap='gray')\n",
    "    axes[0].set_title(f'Average {label_1}')\n",
    "    axes[1].imshow(label2_avg, cmap='gray')\n",
    "    axes[1].set_title(f'Average {label_2}')\n",
    "    axes[2].imshow(difference_mean, cmap='gray')\n",
    "    axes[2].set_title(f'Difference image: Avg {label_1} & {label_2}')\n",
    "    if save_image:\n",
    "        plt.savefig(f\"{file_path}/avg_diff.png\", bbox_inches='tight', dpi=150)\n",
    "    else:\n",
    "        plt.tight_layout()\n",
    "        plt.show()\n"
   ]
  },
  {
   "cell_type": "code",
   "execution_count": null,
   "metadata": {
    "id": "pQZPN69NhBZ5"
   },
   "outputs": [],
   "source": [
    "diff_bet_avg_image_labels_data_as_array(X=X, y=y,\n",
    "                                        label_1='Parasitized', label_2='Uninfected',\n",
    "                                        figsize=(12, 10),\n",
    "                                        save_image=True\n",
    "                                        )\n"
   ]
  },
  {
   "cell_type": "markdown",
   "metadata": {
    "id": "INSoNmInR3UP"
   },
   "source": [
    "---"
   ]
  },
  {
   "cell_type": "markdown",
   "metadata": {
    "id": "hY_hNVkYR2k6"
   },
   "source": [
    "## Image Montage"
   ]
  },
  {
   "cell_type": "code",
   "execution_count": null,
   "metadata": {
    "id": "v3HqArMgR4Bq"
   },
   "outputs": [],
   "source": [
    "import itertools\n",
    "import random\n",
    "sns.set_style(\"white\")\n",
    "\n",
    "\n",
    "def image_montage(dir_path, label_to_display, nrows, ncols, figsize=(15, 10)):\n",
    "    \"\"\"\n",
    "    if the label exists in the directory\n",
    "    check if your montage space is greater than the subset size\n",
    "    create a list of axes indices based on nrows and ncols\n",
    "    create a Figure and display images\n",
    "    in this loop, load and plot the given image\n",
    "    \"\"\"\n",
    "\n",
    "    labels = os.listdir(dir_path)\n",
    "\n",
    "    # subset the class you are interested to display\n",
    "    if label_to_display in labels:\n",
    "\n",
    "        # checks if your montage space is greater than the subset size\n",
    "        images_list = os.listdir(dir_path + '/' + label_to_display)\n",
    "        if nrows * ncols < len(images_list):\n",
    "            img_idx = random.sample(images_list, nrows * ncols)\n",
    "        else:\n",
    "            print(\n",
    "                f\"Decrease nrows or ncols to create your montage. \\n\"\n",
    "                f\"There are {len(images_list)} in your subset. \"\n",
    "                f\"You requested a montage with {nrows * ncols} spaces\")\n",
    "            return\n",
    "\n",
    "        # create a list of axes indices based on nrows and ncols\n",
    "        list_rows = range(0, nrows)\n",
    "        list_cols = range(0, ncols)\n",
    "        plot_idx = list(itertools.product(list_rows, list_cols))\n",
    "\n",
    "        # create a Figure and display images\n",
    "        fig, axes = plt.subplots(nrows=nrows, ncols=ncols, figsize=figsize)\n",
    "        for x in range(0, nrows*ncols):\n",
    "            img = imread(dir_path + '/' + label_to_display + '/' + img_idx[x])\n",
    "            img_shape = img.shape\n",
    "            axes[plot_idx[x][0], plot_idx[x][1]].imshow(img)\n",
    "            axes[plot_idx[x][0], plot_idx[x][1]].set_title(\n",
    "                f\"Width {img_shape[1]}px x Height {img_shape[0]}px\")\n",
    "            axes[plot_idx[x][0], plot_idx[x][1]].set_xticks([])\n",
    "            axes[plot_idx[x][0], plot_idx[x][1]].set_yticks([])\n",
    "        plt.tight_layout()\n",
    "        plt.show()\n",
    "\n",
    "    else:\n",
    "        print(\"The label you selected doesn't exist.\")\n",
    "        print(f\"The existing options are: {labels}\")\n"
   ]
  },
  {
   "cell_type": "markdown",
   "metadata": {
    "id": "8TDuS68pTQ0G"
   },
   "source": [
    "Run Montage in all labels"
   ]
  },
  {
   "cell_type": "code",
   "execution_count": null,
   "metadata": {
    "id": "L11xz9p6S3A5"
   },
   "outputs": [],
   "source": [
    "for label in labels:\n",
    "    print(label)\n",
    "    image_montage(dir_path=train_path,\n",
    "                  label_to_display=label,\n",
    "                  nrows=3, ncols=3,\n",
    "                  figsize=(10, 15)\n",
    "                  )\n",
    "    print(\"\\n\")\n"
   ]
  },
  {
   "cell_type": "markdown",
   "metadata": {
    "id": "hidGo-uhBq1L"
   },
   "source": [
    "---"
   ]
  },
  {
   "cell_type": "markdown",
   "metadata": {},
   "source": [
    "# Congratulations"
   ]
  },
  {
   "cell_type": "markdown",
   "metadata": {
    "id": "_tdAGw4Zwssu"
   },
   "source": [
    "---"
   ]
  }
 ],
 "metadata": {
  "accelerator": "GPU",
  "colab": {
   "name": "Data Practitioner Jupyter Notebook.ipynb",
   "provenance": []
  },
  "interpreter": {
   "hash": "8b8334dab9339717f727a1deaf837b322d7a41c20d15cc86be99a8e69ceec8ce"
  },
  "kernelspec": {
   "display_name": "Python 3 (ipykernel)",
   "language": "python",
   "name": "python3"
  },
  "language_info": {
   "codemirror_mode": {
    "name": "ipython",
    "version": 3
   },
   "file_extension": ".py",
   "mimetype": "text/x-python",
   "name": "python",
   "nbconvert_exporter": "python",
   "pygments_lexer": "ipython3",
   "version": "3.8.12"
  }
 },
 "nbformat": 4,
 "nbformat_minor": 4
}
